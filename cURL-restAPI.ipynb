{
 "cells": [
  {
   "cell_type": "code",
   "execution_count": 1,
   "id": "724ed77c",
   "metadata": {},
   "outputs": [
    {
     "name": "stdout",
     "output_type": "stream",
     "text": [
      "{\"success\": true, \"deck_id\": \"wbrxhbej2dwq\", \"remaining\": 52, \"shuffled\": false}"
     ]
    }
   ],
   "source": [
    "!curl https://deckofcardsapi.com/api/deck/new/"
   ]
  },
  {
   "cell_type": "code",
   "execution_count": 2,
   "id": "98f8e244",
   "metadata": {},
   "outputs": [
    {
     "name": "stdout",
     "output_type": "stream",
     "text": [
      "  % Total    % Received % Xferd  Average Speed   Time    Time     Time  Current\n",
      "                                 Dload  Upload   Total   Spent    Left  Speed\n",
      "100    80  100    80    0     0    299      0 --:--:-- --:--:-- --:--:--   299\n",
      "{\n",
      "    \"success\": true,\n",
      "    \"deck_id\": \"d8hrdfkis0vr\",\n",
      "    \"remaining\": 52,\n",
      "    \"shuffled\": false\n",
      "}\n"
     ]
    }
   ],
   "source": [
    "!curl https://deckofcardsapi.com/api/deck/new/ | python3 -m json.tool"
   ]
  },
  {
   "cell_type": "code",
   "execution_count": 3,
   "id": "f09cbe81",
   "metadata": {},
   "outputs": [
    {
     "name": "stdout",
     "output_type": "stream",
     "text": [
      "{\"success\": true, \"deck_id\": \"d8hrdfkis0vr\", \"remaining\": 52, \"shuffled\": true}"
     ]
    }
   ],
   "source": [
    "!curl https://deckofcardsapi.com/api/deck/d8hrdfkis0vr/shuffle/"
   ]
  },
  {
   "cell_type": "code",
   "execution_count": 4,
   "id": "ec3e4c9b",
   "metadata": {},
   "outputs": [
    {
     "name": "stdout",
     "output_type": "stream",
     "text": [
      "{\"success\": true, \"deck_id\": \"d8hrdfkis0vr\", \"cards\": [{\"code\": \"0D\", \"image\": \"https://deckofcardsapi.com/static/img/0D.png\", \"images\": {\"svg\": \"https://deckofcardsapi.com/static/img/0D.svg\", \"png\": \"https://deckofcardsapi.com/static/img/0D.png\"}, \"value\": \"10\", \"suit\": \"DIAMONDS\"}, {\"code\": \"KD\", \"image\": \"https://deckofcardsapi.com/static/img/KD.png\", \"images\": {\"svg\": \"https://deckofcardsapi.com/static/img/KD.svg\", \"png\": \"https://deckofcardsapi.com/static/img/KD.png\"}, \"value\": \"KING\", \"suit\": \"DIAMONDS\"}, {\"code\": \"7D\", \"image\": \"https://deckofcardsapi.com/static/img/7D.png\", \"images\": {\"svg\": \"https://deckofcardsapi.com/static/img/7D.svg\", \"png\": \"https://deckofcardsapi.com/static/img/7D.png\"}, \"value\": \"7\", \"suit\": \"DIAMONDS\"}], \"remaining\": 49}"
     ]
    }
   ],
   "source": [
    "!curl https://deckofcardsapi.com/api/deck/d8hrdfkis0vr/draw/?count=3"
   ]
  },
  {
   "cell_type": "code",
   "execution_count": 5,
   "id": "441ec1de",
   "metadata": {},
   "outputs": [
    {
     "name": "stdout",
     "output_type": "stream",
     "text": [
      "  % Total    % Received % Xferd  Average Speed   Time    Time     Time  Current\n",
      "                                 Dload  Upload   Total   Spent    Left  Speed\n",
      "100   529  100   529    0     0   1137      0 --:--:-- --:--:-- --:--:--  1135\n",
      "{\n",
      "    \"success\": true,\n",
      "    \"deck_id\": \"d8hrdfkis0vr\",\n",
      "    \"cards\": [\n",
      "        {\n",
      "            \"code\": \"JH\",\n",
      "            \"image\": \"https://deckofcardsapi.com/static/img/JH.png\",\n",
      "            \"images\": {\n",
      "                \"svg\": \"https://deckofcardsapi.com/static/img/JH.svg\",\n",
      "                \"png\": \"https://deckofcardsapi.com/static/img/JH.png\"\n",
      "            },\n",
      "            \"value\": \"JACK\",\n",
      "            \"suit\": \"HEARTS\"\n",
      "        },\n",
      "        {\n",
      "            \"code\": \"5H\",\n",
      "            \"image\": \"https://deckofcardsapi.com/static/img/5H.png\",\n",
      "            \"images\": {\n",
      "                \"svg\": \"https://deckofcardsapi.com/static/img/5H.svg\",\n",
      "                \"png\": \"https://deckofcardsapi.com/static/img/5H.png\"\n",
      "            },\n",
      "            \"value\": \"5\",\n",
      "            \"suit\": \"HEARTS\"\n",
      "        }\n",
      "    ],\n",
      "    \"remaining\": 47\n",
      "}\n"
     ]
    }
   ],
   "source": [
    "!curl https://deckofcardsapi.com/api/deck/d8hrdfkis0vr/draw/?count=2 | python3 -m json.tool"
   ]
  },
  {
   "cell_type": "code",
   "execution_count": null,
   "id": "a2967907",
   "metadata": {},
   "outputs": [],
   "source": []
  }
 ],
 "metadata": {
  "kernelspec": {
   "display_name": "Python 3",
   "language": "python",
   "name": "python3"
  },
  "language_info": {
   "codemirror_mode": {
    "name": "ipython",
    "version": 3
   },
   "file_extension": ".py",
   "mimetype": "text/x-python",
   "name": "python",
   "nbconvert_exporter": "python",
   "pygments_lexer": "ipython3",
   "version": "3.8.5"
  }
 },
 "nbformat": 4,
 "nbformat_minor": 5
}
