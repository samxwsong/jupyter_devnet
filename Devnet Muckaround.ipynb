{
 "cells": [
  {
   "cell_type": "code",
   "execution_count": 1,
   "metadata": {},
   "outputs": [],
   "source": [
    "#!/usr/bin/env python\n",
    "# -*- coding: utf-8 -*-\n",
    "\"\"\"Script flow and debugging. Print your own fortune cookie!\"\"\"\n",
    "\n",
    "\n",
    "import random\n",
    "\n"
   ]
  },
  {
   "cell_type": "code",
   "execution_count": 2,
   "metadata": {},
   "outputs": [],
   "source": [
    "\n",
    "FORTUNES = [\n",
    "    \"There is a good chance your code will work, eventually.\",\n",
    "    \"The weather will be hot, cold or just right today.\",\n",
    "    \"I see Network DevOps in your future.\",\n",
    "]\n",
    "\n",
    "\n",
    "def generate_fortune() -> str:\n",
    "    \"\"\"Use mystical forces (a random selection) to get a user's fortune.\"\"\"\n",
    "    return random.choice(FORTUNES)\n",
    "\n",
    "\n",
    "def generate_lucky_numbers(how_many: int) -> list:\n",
    "    \"\"\"Returns a list of (random) 'lucky' numbers.\"\"\"\n",
    "    lucky_numbers = []\n",
    "    for _ in range(how_many):\n",
    "        lucky_numbers.append(random.randint(0, 99))\n",
    "    return lucky_numbers"
   ]
  },
  {
   "cell_type": "code",
   "execution_count": 15,
   "metadata": {},
   "outputs": [
    {
     "name": "stdout",
     "output_type": "stream",
     "text": [
      "Get your fortune cookie!\n",
      "How many lucky numbers would you like?  9\n",
      "\n",
      "Here is your fortune:\n",
      "\n",
      "There is a good chance your code will work, eventually.\n",
      "Lucky Numbers: [99, 53, 12, 6, 4, 15, 31, 59, 17]\n"
     ]
    }
   ],
   "source": [
    "\n",
    "\n",
    "def create_fortune_cookie_message(how_many_lucky_numbers: int) -> str:\n",
    "    \"\"\"Create and return a fortune cookie message.\n",
    "\n",
    "    The message should include the user's fortune and lucky numbers.\n",
    "    \"\"\"\n",
    "    # TODO: Create a fortune cookie message by calling generate_fortune() and\n",
    "    # generate_lucky_numbers() and then composing and returning the fortune\n",
    "    # cookie's message.\n",
    "    \n",
    "    return f\"{generate_fortune()}\\nLucky Numbers: {generate_lucky_numbers(how_many_lucky_numbers)}\"\n",
    "    raise NotImplementedError()\n",
    "\n",
    "\n",
    "def main():\n",
    "    \"\"\"Create and print a fortune cookie.\"\"\"\n",
    "    print(\"Get your fortune cookie!\")\n",
    "\n",
    "    # Prompt the user for how many lucky numbers they would like\n",
    "    qty_lucky_numbers = input(\"How many lucky numbers would you like?  \")\n",
    "    qty_lucky_numbers = int(qty_lucky_numbers.strip())\n",
    "\n",
    "    # Create and display their Fortune\n",
    "    fortune_cookie_message = create_fortune_cookie_message(qty_lucky_numbers)\n",
    "    print(\"\\nHere is your fortune:\\n\")\n",
    "    print(fortune_cookie_message)\n",
    "\n",
    "\n",
    "if __name__ == '__main__':\n",
    "    main()\n"
   ]
  },
  {
   "cell_type": "code",
   "execution_count": null,
   "metadata": {},
   "outputs": [],
   "source": []
  },
  {
   "cell_type": "code",
   "execution_count": null,
   "metadata": {},
   "outputs": [],
   "source": []
  },
  {
   "cell_type": "code",
   "execution_count": null,
   "metadata": {},
   "outputs": [],
   "source": []
  },
  {
   "cell_type": "code",
   "execution_count": null,
   "metadata": {},
   "outputs": [],
   "source": []
  }
 ],
 "metadata": {
  "kernelspec": {
   "display_name": "Python 3",
   "language": "python",
   "name": "python3"
  },
  "language_info": {
   "codemirror_mode": {
    "name": "ipython",
    "version": 3
   },
   "file_extension": ".py",
   "mimetype": "text/x-python",
   "name": "python",
   "nbconvert_exporter": "python",
   "pygments_lexer": "ipython3",
   "version": "3.8.5"
  }
 },
 "nbformat": 4,
 "nbformat_minor": 4
}
