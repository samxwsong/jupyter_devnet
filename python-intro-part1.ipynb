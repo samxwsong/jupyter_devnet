{
 "cells": [
  {
   "cell_type": "code",
   "execution_count": 1,
   "id": "8907d343",
   "metadata": {},
   "outputs": [],
   "source": [
    "import math\n",
    "import random\n",
    "\n",
    "\n",
    "# TODO: Write a print statement that displays both the type and value of `pi`\n",
    "pi = math.pi"
   ]
  },
  {
   "cell_type": "code",
   "execution_count": 2,
   "id": "2d600868",
   "metadata": {},
   "outputs": [
    {
     "name": "stdout",
     "output_type": "stream",
     "text": [
      "3.141592653589793\n"
     ]
    }
   ],
   "source": [
    "print(pi)"
   ]
  },
  {
   "cell_type": "code",
   "execution_count": 3,
   "id": "312dd577",
   "metadata": {},
   "outputs": [
    {
     "name": "stdout",
     "output_type": "stream",
     "text": [
      "<class 'float'>\n"
     ]
    }
   ],
   "source": [
    "print(type(pi))"
   ]
  },
  {
   "cell_type": "code",
   "execution_count": 4,
   "id": "abb4501a",
   "metadata": {},
   "outputs": [],
   "source": [
    "\n",
    "# TODO: Write a conditional to print out if `i` is less than or greater than 50\n",
    "i = random.randint(0, 100)"
   ]
  },
  {
   "cell_type": "code",
   "execution_count": 5,
   "id": "6b06023b",
   "metadata": {},
   "outputs": [
    {
     "name": "stdout",
     "output_type": "stream",
     "text": [
      "i is greater than 50\n"
     ]
    }
   ],
   "source": [
    "if i >= 50:\n",
    "    print(\"i is greater than 50\")\n",
    "\n",
    "if i <=50:\n",
    "    print(f\"i is {i} which is less than 50\")"
   ]
  },
  {
   "cell_type": "code",
   "execution_count": 6,
   "id": "e0c33634",
   "metadata": {},
   "outputs": [],
   "source": [
    "# TODO: Write a conditional that prints the color of the picked fruit\n",
    "picked_fruit = random.choice(['orange', 'strawberry', 'banana'])"
   ]
  },
  {
   "cell_type": "code",
   "execution_count": 7,
   "id": "ba38916f",
   "metadata": {},
   "outputs": [
    {
     "name": "stdout",
     "output_type": "stream",
     "text": [
      "It is an orange\n"
     ]
    }
   ],
   "source": [
    "if picked_fruit == \"orange\":\n",
    "    print(\"It is an orange\")\n",
    "    \n",
    "if picked_fruit == \"strawberry\":\n",
    "    print(\"it is a strawberry\")\n",
    "    \n",
    "if picked_fruit == \"banana\":\n",
    "    print(\"it is a banana\")"
   ]
  },
  {
   "cell_type": "code",
   "execution_count": 8,
   "id": "4cd964bb",
   "metadata": {},
   "outputs": [
    {
     "name": "stdout",
     "output_type": "stream",
     "text": [
      "30\n"
     ]
    }
   ],
   "source": [
    "# TODO: Write a function that multiplies two numbers and returns the result\n",
    "# Define the function here.\n",
    "def multiply(a,b):\n",
    "    return a*b\n",
    "\n",
    "a = 5\n",
    "b = 6\n",
    "\n",
    "print(multiply(a,b))"
   ]
  },
  {
   "cell_type": "code",
   "execution_count": 9,
   "id": "0f7ea83e",
   "metadata": {},
   "outputs": [
    {
     "name": "stdout",
     "output_type": "stream",
     "text": [
      "12 x 96 = 1152\n",
      "48 x 17 = 816\n",
      "196523 x 87323 = 17160977929\n"
     ]
    }
   ],
   "source": [
    "# TODO: Now call the function a few times to calculate the following answers\n",
    "\n",
    "print(\"12 x 96 =\", multiply(12,96))\n",
    "\n",
    "print(\"48 x 17 =\", multiply(48,17))\n",
    "\n",
    "print(\"196523 x 87323 =\",multiply(196523,87323))"
   ]
  },
  {
   "cell_type": "code",
   "execution_count": null,
   "id": "69d85125",
   "metadata": {},
   "outputs": [],
   "source": []
  }
 ],
 "metadata": {
  "kernelspec": {
   "display_name": "Python 3",
   "language": "python",
   "name": "python3"
  },
  "language_info": {
   "codemirror_mode": {
    "name": "ipython",
    "version": 3
   },
   "file_extension": ".py",
   "mimetype": "text/x-python",
   "name": "python",
   "nbconvert_exporter": "python",
   "pygments_lexer": "ipython3",
   "version": "3.8.5"
  }
 },
 "nbformat": 4,
 "nbformat_minor": 5
}
