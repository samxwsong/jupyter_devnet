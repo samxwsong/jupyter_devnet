{
 "cells": [
  {
   "cell_type": "code",
   "execution_count": 4,
   "id": "5ee6ae0f",
   "metadata": {},
   "outputs": [],
   "source": [
    "import requests"
   ]
  },
  {
   "cell_type": "code",
   "execution_count": 5,
   "id": "579eab43",
   "metadata": {},
   "outputs": [
    {
     "data": {
      "text/plain": [
       "'https://sandbox-iosxe-latest-1.cisco.com/restconf/data/ietf-interfaces:interfaces'"
      ]
     },
     "execution_count": 5,
     "metadata": {},
     "output_type": "execute_result"
    }
   ],
   "source": [
    "#Varibles\n",
    "HOST = 'sandbox-iosxe-latest-1.cisco.com'\n",
    "USER = 'developer'\n",
    "PASS = 'C1sco12345'\n",
    "\n",
    "url = f\"https://{HOST}/restconf/data/ietf-interfaces:interfaces\"\n",
    "url"
   ]
  },
  {
   "cell_type": "code",
   "execution_count": 6,
   "id": "3ab7c815",
   "metadata": {},
   "outputs": [
    {
     "name": "stderr",
     "output_type": "stream",
     "text": [
      "/home/ubuntu/coding/jupyter/jupyterenv1/lib/python3.8/site-packages/urllib3/connectionpool.py:1013: InsecureRequestWarning: Unverified HTTPS request is being made to host 'sandbox-iosxe-latest-1.cisco.com'. Adding certificate verification is strongly advised. See: https://urllib3.readthedocs.io/en/latest/advanced-usage.html#ssl-warnings\n",
      "  warnings.warn(\n"
     ]
    }
   ],
   "source": [
    "#code\n",
    "headers = {'Content-Type': 'application/yang-data+json',\n",
    "              'Accept': 'application/yang-data+json'}\n",
    "\n",
    "response = requests.get(url, auth=(USER, PASS), headers=headers, verify=False)\n",
    "\n",
    "interfaces = response.json()\n"
   ]
  },
  {
   "cell_type": "code",
   "execution_count": 7,
   "id": "dc0dfc42",
   "metadata": {},
   "outputs": [
    {
     "data": {
      "text/plain": [
       "'GigabitEthernet1'"
      ]
     },
     "execution_count": 7,
     "metadata": {},
     "output_type": "execute_result"
    }
   ],
   "source": [
    "#1st interface name\n",
    "interfaces['ietf-interfaces:interfaces']['interface'][0]['name']"
   ]
  },
  {
   "cell_type": "code",
   "execution_count": 8,
   "id": "fe08993d",
   "metadata": {},
   "outputs": [
    {
     "data": {
      "text/plain": [
       "'10.10.20.48'"
      ]
     },
     "execution_count": 8,
     "metadata": {},
     "output_type": "execute_result"
    }
   ],
   "source": [
    "#1st itterface's IP\n",
    "interfaces['ietf-interfaces:interfaces']['interface'][0]['ietf-ip:ipv4']['address'][0]['ip']"
   ]
  },
  {
   "cell_type": "code",
   "execution_count": 9,
   "id": "69b1de29",
   "metadata": {},
   "outputs": [
    {
     "data": {
      "text/plain": [
       "[{'name': 'GigabitEthernet1',\n",
       "  'description': \"MANAGEMENT INTERFACE - DON'T TOUCH ME\",\n",
       "  'type': 'iana-if-type:ethernetCsmacd',\n",
       "  'enabled': True,\n",
       "  'ietf-ip:ipv4': {'address': [{'ip': '10.10.20.48',\n",
       "     'netmask': '255.255.255.0'}]},\n",
       "  'ietf-ip:ipv6': {}},\n",
       " {'name': 'GigabitEthernet2',\n",
       "  'description': 'Network Interface',\n",
       "  'type': 'iana-if-type:ethernetCsmacd',\n",
       "  'enabled': True,\n",
       "  'ietf-ip:ipv4': {'address': [{'ip': '10.10.30.2',\n",
       "     'netmask': '255.255.255.0'}]},\n",
       "  'ietf-ip:ipv6': {}},\n",
       " {'name': 'GigabitEthernet3',\n",
       "  'description': 'Network Interface',\n",
       "  'type': 'iana-if-type:ethernetCsmacd',\n",
       "  'enabled': False,\n",
       "  'ietf-ip:ipv4': {'address': [{'ip': '10.10.40.2',\n",
       "     'netmask': '255.255.255.0'}]},\n",
       "  'ietf-ip:ipv6': {}},\n",
       " {'name': 'Loopback100',\n",
       "  'type': 'iana-if-type:softwareLoopback',\n",
       "  'enabled': True,\n",
       "  'ietf-ip:ipv4': {'address': [{'ip': '100.100.100.100',\n",
       "     'netmask': '255.255.255.255'}]},\n",
       "  'ietf-ip:ipv6': {}}]"
      ]
     },
     "execution_count": 9,
     "metadata": {},
     "output_type": "execute_result"
    }
   ],
   "source": [
    "interfaces['ietf-interfaces:interfaces']['interface']\n"
   ]
  },
  {
   "cell_type": "code",
   "execution_count": 11,
   "id": "f72348c0",
   "metadata": {},
   "outputs": [
    {
     "name": "stdout",
     "output_type": "stream",
     "text": [
      "GigabitEthernet1\n",
      "GigabitEthernet2\n",
      "GigabitEthernet3\n",
      "Loopback100\n"
     ]
    }
   ],
   "source": [
    "for i in interfaces['ietf-interfaces:interfaces']['interface']:\n",
    "    print(i['name'])\n"
   ]
  },
  {
   "cell_type": "code",
   "execution_count": 14,
   "id": "f5ceccf2",
   "metadata": {},
   "outputs": [
    {
     "name": "stdout",
     "output_type": "stream",
     "text": [
      "GigabitEthernet1 10.10.20.48\n",
      "GigabitEthernet2 10.10.30.2\n",
      "GigabitEthernet3 10.10.40.2\n",
      "Loopback100 100.100.100.100\n"
     ]
    }
   ],
   "source": [
    "for i in interfaces['ietf-interfaces:interfaces']['interface']:\n",
    "    print(i['name'],i['ietf-ip:ipv4']['address'][0]['ip'])"
   ]
  },
  {
   "cell_type": "code",
   "execution_count": null,
   "id": "f2f7ac8b",
   "metadata": {},
   "outputs": [],
   "source": []
  }
 ],
 "metadata": {
  "kernelspec": {
   "display_name": "Python 3",
   "language": "python",
   "name": "python3"
  },
  "language_info": {
   "codemirror_mode": {
    "name": "ipython",
    "version": 3
   },
   "file_extension": ".py",
   "mimetype": "text/x-python",
   "name": "python",
   "nbconvert_exporter": "python",
   "pygments_lexer": "ipython3",
   "version": "3.8.5"
  }
 },
 "nbformat": 4,
 "nbformat_minor": 5
}
